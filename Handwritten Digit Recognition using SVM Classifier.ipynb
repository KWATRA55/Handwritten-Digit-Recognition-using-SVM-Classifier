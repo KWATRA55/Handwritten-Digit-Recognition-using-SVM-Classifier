{
 "cells": [
  {
   "cell_type": "code",
   "execution_count": 1,
   "source": [
    "import pandas as pd\r\n",
    "from sklearn.datasets import load_digits"
   ],
   "outputs": [],
   "metadata": {}
  },
  {
   "cell_type": "code",
   "execution_count": 2,
   "source": [
    "digit_data = load_digits()\r\n",
    "print(digit_data.data)\r\n",
    "print(digit_data.target)"
   ],
   "outputs": [
    {
     "output_type": "stream",
     "name": "stdout",
     "text": [
      "[[ 0.  0.  5. ...  0.  0.  0.]\n",
      " [ 0.  0.  0. ... 10.  0.  0.]\n",
      " [ 0.  0.  0. ... 16.  9.  0.]\n",
      " ...\n",
      " [ 0.  0.  1. ...  6.  0.  0.]\n",
      " [ 0.  0.  2. ... 12.  0.  0.]\n",
      " [ 0.  0. 10. ... 12.  1.  0.]]\n",
      "[0 1 2 ... 8 9 8]\n"
     ]
    }
   ],
   "metadata": {}
  },
  {
   "cell_type": "code",
   "execution_count": 11,
   "source": [
    "# lets try to visualize the digits using matplotlib\r\n",
    "import matplotlib.pyplot as plt\r\n",
    "\r\n",
    "for i in range(0,2):\r\n",
    "    plt.gray()\r\n",
    "    plt.matshow(digit_data.images[i])"
   ],
   "outputs": [
    {
     "output_type": "display_data",
     "data": {
      "text/plain": [
       "<Figure size 432x288 with 0 Axes>"
      ]
     },
     "metadata": {}
    },
    {
     "output_type": "display_data",
     "data": {
      "image/png": "[encoded data removed]",
      "text/plain": [
       "<Figure size 288x288 with 1 Axes>"
      ]
     },
     "metadata": {
      "needs_background": "light"
     }
    },
    {
     "output_type": "display_data",
     "data": {
      "image/png": "[encoded data removed]",
      "text/plain": [
       "<Figure size 288x288 with 1 Axes>"
      ]
     },
     "metadata": {
      "needs_background": "light"
     }
    }
   ],
   "metadata": {}
  },
  {
   "cell_type": "code",
   "execution_count": 14,
   "source": [
    "# splitting the data\r\n",
    "from sklearn.model_selection import train_test_split\r\n",
    "\r\n",
    "X_train,X_test, y_train, y_test = train_test_split(digit_data.data, digit_data.target, test_size=0.2 , random_state=0)\r\n",
    "print(X_train.shape)\r\n",
    "print(y_train.shape)\r\n"
   ],
   "outputs": [
    {
     "output_type": "stream",
     "name": "stdout",
     "text": [
      "(1437, 64)\n",
      "(1437,)\n"
     ]
    }
   ],
   "metadata": {}
  },
  {
   "cell_type": "code",
   "execution_count": 17,
   "source": [
    "from sklearn.svm import SVC\r\n",
    "\r\n",
    "model = SVC(kernel='linear')\r\n",
    "model.fit(X_train, y_train)"
   ],
   "outputs": [
    {
     "output_type": "execute_result",
     "data": {
      "text/plain": [
       "SVC(kernel='linear')"
      ]
     },
     "metadata": {},
     "execution_count": 17
    }
   ],
   "metadata": {}
  },
  {
   "cell_type": "code",
   "execution_count": 18,
   "source": [
    "# lets see the accuracy\r\n",
    "model.score(X_test, y_test)"
   ],
   "outputs": [
    {
     "output_type": "execute_result",
     "data": {
      "text/plain": [
       "0.9777777777777777"
      ]
     },
     "metadata": {},
     "execution_count": 18
    }
   ],
   "metadata": {}
  },
  {
   "cell_type": "code",
   "execution_count": 36,
   "source": [
    "# lets make a prediction on the test data\r\n",
    "\r\n",
    "n=9 # n is the nth number from our data that we are trying to predict\r\n",
    "plt.gray()\r\n",
    "plt.matshow(digit_data.images[n])\r\n",
    "plt.show()\r\n",
    "\r\n",
    "print(model.predict(digit_data.images[n].reshape((1,-1)))) # or we can use digit_data.data[n] (because that would be in the form of 1X64)\r\n"
   ],
   "outputs": [
    {
     "output_type": "display_data",
     "data": {
      "text/plain": [
       "<Figure size 432x288 with 0 Axes>"
      ]
     },
     "metadata": {}
    },
    {
     "output_type": "display_data",
     "data": {
      "image/png": "[encoded data removed]",
      "text/plain": [
       "<Figure size 288x288 with 1 Axes>"
      ]
     },
     "metadata": {
      "needs_background": "light"
     }
    },
    {
     "output_type": "stream",
     "name": "stdout",
     "text": [
      "[9]\n"
     ]
    }
   ],
   "metadata": {}
  },
  {
   "cell_type": "code",
   "execution_count": 48,
   "source": [
    "# lets compare the model's results\r\n",
    "import numpy as np\r\n",
    "\r\n",
    "np.concatenate((y_test.reshape(len(y_test), 1), model.predict(X_test).reshape(len(y_test), 1)), 1)"
   ],
   "outputs": [
    {
     "output_type": "execute_result",
     "data": {
      "text/plain": [
       "array([[2, 2],\n",
       "       [8, 8],\n",
       "       [2, 2],\n",
       "       [6, 6],\n",
       "       [6, 6],\n",
       "       [7, 7],\n",
       "       [1, 1],\n",
       "       [9, 9],\n",
       "       [8, 8],\n",
       "       [5, 5],\n",
       "       [2, 2],\n",
       "       [8, 8],\n",
       "       [6, 6],\n",
       "       [6, 6],\n",
       "       [6, 6],\n",
       "       [6, 6],\n",
       "       [1, 1],\n",
       "       [0, 0],\n",
       "       [5, 5],\n",
       "       [8, 8],\n",
       "       [8, 8],\n",
       "       [7, 7],\n",
       "       [8, 8],\n",
       "       [4, 4],\n",
       "       [7, 7],\n",
       "       [5, 5],\n",
       "       [4, 4],\n",
       "       [9, 9],\n",
       "       [2, 2],\n",
       "       [9, 9],\n",
       "       [4, 4],\n",
       "       [7, 7],\n",
       "       [6, 6],\n",
       "       [8, 8],\n",
       "       [9, 9],\n",
       "       [4, 4],\n",
       "       [3, 3],\n",
       "       [1, 1],\n",
       "       [0, 0],\n",
       "       [1, 1],\n",
       "       [8, 8],\n",
       "       [6, 6],\n",
       "       [7, 7],\n",
       "       [7, 7],\n",
       "       [1, 1],\n",
       "       [0, 0],\n",
       "       [7, 7],\n",
       "       [6, 6],\n",
       "       [2, 2],\n",
       "       [1, 1],\n",
       "       [9, 9],\n",
       "       [6, 6],\n",
       "       [7, 7],\n",
       "       [9, 9],\n",
       "       [0, 0],\n",
       "       [0, 0],\n",
       "       [5, 5],\n",
       "       [1, 1],\n",
       "       [6, 6],\n",
       "       [3, 3],\n",
       "       [0, 0],\n",
       "       [2, 2],\n",
       "       [3, 3],\n",
       "       [4, 4],\n",
       "       [1, 1],\n",
       "       [9, 9],\n",
       "       [2, 2],\n",
       "       [6, 6],\n",
       "       [9, 9],\n",
       "       [1, 1],\n",
       "       [8, 8],\n",
       "       [3, 3],\n",
       "       [5, 5],\n",
       "       [1, 1],\n",
       "       [2, 2],\n",
       "       [8, 8],\n",
       "       [2, 2],\n",
       "       [2, 2],\n",
       "       [9, 9],\n",
       "       [7, 7],\n",
       "       [2, 2],\n",
       "       [3, 3],\n",
       "       [6, 6],\n",
       "       [0, 0],\n",
       "       [5, 5],\n",
       "       [3, 3],\n",
       "       [7, 7],\n",
       "       [5, 5],\n",
       "       [1, 1],\n",
       "       [2, 2],\n",
       "       [9, 9],\n",
       "       [9, 9],\n",
       "       [3, 3],\n",
       "       [1, 1],\n",
       "       [7, 7],\n",
       "       [7, 7],\n",
       "       [4, 4],\n",
       "       [8, 8],\n",
       "       [5, 5],\n",
       "       [8, 8],\n",
       "       [5, 5],\n",
       "       [5, 5],\n",
       "       [2, 2],\n",
       "       [5, 5],\n",
       "       [9, 9],\n",
       "       [0, 0],\n",
       "       [7, 7],\n",
       "       [1, 1],\n",
       "       [4, 4],\n",
       "       [7, 4],\n",
       "       [3, 3],\n",
       "       [4, 4],\n",
       "       [8, 8],\n",
       "       [9, 9],\n",
       "       [7, 7],\n",
       "       [9, 9],\n",
       "       [8, 8],\n",
       "       [2, 2],\n",
       "       [6, 1],\n",
       "       [5, 5],\n",
       "       [2, 2],\n",
       "       [5, 5],\n",
       "       [8, 8],\n",
       "       [4, 4],\n",
       "       [8, 1],\n",
       "       [7, 7],\n",
       "       [0, 0],\n",
       "       [6, 6],\n",
       "       [1, 1],\n",
       "       [5, 5],\n",
       "       [9, 5],\n",
       "       [9, 9],\n",
       "       [9, 9],\n",
       "       [5, 5],\n",
       "       [9, 9],\n",
       "       [9, 9],\n",
       "       [5, 5],\n",
       "       [7, 7],\n",
       "       [5, 5],\n",
       "       [6, 6],\n",
       "       [2, 2],\n",
       "       [8, 8],\n",
       "       [6, 6],\n",
       "       [9, 9],\n",
       "       [6, 6],\n",
       "       [1, 1],\n",
       "       [5, 5],\n",
       "       [1, 1],\n",
       "       [5, 5],\n",
       "       [9, 9],\n",
       "       [9, 9],\n",
       "       [1, 1],\n",
       "       [5, 5],\n",
       "       [3, 3],\n",
       "       [6, 6],\n",
       "       [1, 1],\n",
       "       [8, 8],\n",
       "       [9, 9],\n",
       "       [8, 8],\n",
       "       [7, 7],\n",
       "       [6, 6],\n",
       "       [7, 7],\n",
       "       [6, 6],\n",
       "       [5, 5],\n",
       "       [6, 6],\n",
       "       [0, 0],\n",
       "       [8, 8],\n",
       "       [8, 8],\n",
       "       [9, 9],\n",
       "       [8, 8],\n",
       "       [6, 6],\n",
       "       [1, 1],\n",
       "       [0, 0],\n",
       "       [4, 4],\n",
       "       [1, 1],\n",
       "       [6, 6],\n",
       "       [3, 3],\n",
       "       [8, 8],\n",
       "       [6, 6],\n",
       "       [7, 7],\n",
       "       [4, 4],\n",
       "       [5, 9],\n",
       "       [6, 6],\n",
       "       [3, 3],\n",
       "       [0, 0],\n",
       "       [3, 3],\n",
       "       [3, 3],\n",
       "       [3, 3],\n",
       "       [0, 0],\n",
       "       [7, 7],\n",
       "       [7, 7],\n",
       "       [5, 5],\n",
       "       [7, 7],\n",
       "       [8, 8],\n",
       "       [0, 0],\n",
       "       [7, 7],\n",
       "       [8, 8],\n",
       "       [9, 9],\n",
       "       [6, 6],\n",
       "       [4, 4],\n",
       "       [5, 5],\n",
       "       [0, 0],\n",
       "       [1, 1],\n",
       "       [4, 4],\n",
       "       [6, 6],\n",
       "       [4, 4],\n",
       "       [3, 3],\n",
       "       [3, 3],\n",
       "       [0, 0],\n",
       "       [9, 9],\n",
       "       [5, 5],\n",
       "       [9, 3],\n",
       "       [2, 2],\n",
       "       [1, 1],\n",
       "       [4, 4],\n",
       "       [2, 2],\n",
       "       [1, 1],\n",
       "       [6, 6],\n",
       "       [8, 8],\n",
       "       [9, 9],\n",
       "       [2, 2],\n",
       "       [4, 4],\n",
       "       [9, 9],\n",
       "       [3, 3],\n",
       "       [7, 7],\n",
       "       [6, 6],\n",
       "       [2, 2],\n",
       "       [3, 3],\n",
       "       [3, 3],\n",
       "       [1, 1],\n",
       "       [6, 6],\n",
       "       [9, 9],\n",
       "       [3, 3],\n",
       "       [6, 6],\n",
       "       [3, 3],\n",
       "       [2, 2],\n",
       "       [2, 2],\n",
       "       [0, 0],\n",
       "       [7, 7],\n",
       "       [6, 6],\n",
       "       [1, 1],\n",
       "       [1, 1],\n",
       "       [9, 9],\n",
       "       [7, 7],\n",
       "       [2, 2],\n",
       "       [7, 7],\n",
       "       [8, 8],\n",
       "       [5, 5],\n",
       "       [5, 5],\n",
       "       [7, 7],\n",
       "       [5, 5],\n",
       "       [2, 2],\n",
       "       [3, 3],\n",
       "       [7, 7],\n",
       "       [2, 2],\n",
       "       [7, 7],\n",
       "       [5, 5],\n",
       "       [5, 5],\n",
       "       [7, 7],\n",
       "       [0, 0],\n",
       "       [9, 9],\n",
       "       [1, 1],\n",
       "       [6, 6],\n",
       "       [5, 5],\n",
       "       [9, 9],\n",
       "       [7, 7],\n",
       "       [4, 4],\n",
       "       [3, 3],\n",
       "       [8, 8],\n",
       "       [0, 0],\n",
       "       [3, 3],\n",
       "       [6, 6],\n",
       "       [4, 4],\n",
       "       [6, 6],\n",
       "       [3, 3],\n",
       "       [2, 2],\n",
       "       [6, 6],\n",
       "       [8, 8],\n",
       "       [8, 8],\n",
       "       [8, 8],\n",
       "       [4, 4],\n",
       "       [6, 6],\n",
       "       [7, 7],\n",
       "       [5, 5],\n",
       "       [2, 2],\n",
       "       [4, 4],\n",
       "       [5, 5],\n",
       "       [3, 3],\n",
       "       [2, 2],\n",
       "       [4, 4],\n",
       "       [6, 6],\n",
       "       [9, 9],\n",
       "       [4, 4],\n",
       "       [5, 5],\n",
       "       [4, 4],\n",
       "       [3, 3],\n",
       "       [4, 4],\n",
       "       [6, 6],\n",
       "       [2, 2],\n",
       "       [9, 9],\n",
       "       [0, 0],\n",
       "       [1, 1],\n",
       "       [7, 7],\n",
       "       [2, 2],\n",
       "       [0, 0],\n",
       "       [9, 9],\n",
       "       [6, 6],\n",
       "       [0, 0],\n",
       "       [4, 4],\n",
       "       [2, 2],\n",
       "       [0, 0],\n",
       "       [7, 7],\n",
       "       [9, 9],\n",
       "       [8, 8],\n",
       "       [5, 5],\n",
       "       [4, 4],\n",
       "       [8, 8],\n",
       "       [2, 2],\n",
       "       [8, 8],\n",
       "       [4, 4],\n",
       "       [3, 3],\n",
       "       [7, 7],\n",
       "       [2, 2],\n",
       "       [6, 6],\n",
       "       [9, 9],\n",
       "       [1, 1],\n",
       "       [5, 5],\n",
       "       [1, 1],\n",
       "       [0, 0],\n",
       "       [8, 8],\n",
       "       [2, 2],\n",
       "       [1, 8],\n",
       "       [9, 9],\n",
       "       [5, 5],\n",
       "       [6, 6],\n",
       "       [8, 2],\n",
       "       [2, 2],\n",
       "       [7, 7],\n",
       "       [2, 2],\n",
       "       [1, 1],\n",
       "       [5, 5],\n",
       "       [1, 1],\n",
       "       [6, 6],\n",
       "       [4, 4],\n",
       "       [5, 5],\n",
       "       [0, 0],\n",
       "       [9, 9],\n",
       "       [4, 4],\n",
       "       [1, 1],\n",
       "       [1, 1],\n",
       "       [7, 7],\n",
       "       [0, 0],\n",
       "       [8, 8],\n",
       "       [9, 9],\n",
       "       [0, 0],\n",
       "       [5, 5],\n",
       "       [4, 4],\n",
       "       [3, 3],\n",
       "       [8, 8],\n",
       "       [8, 8]])"
      ]
     },
     "metadata": {},
     "execution_count": 48
    }
   ],
   "metadata": {}
  },
  {
   "cell_type": "code",
   "execution_count": 60,
   "source": [
    "# lets try different models\r\n",
    "linear_model = SVC(kernel='linear')\r\n",
    "rbf_model = SVC(kernel='rbf')\r\n",
    "gamma_model = SVC(gamma=0.001, C= 0.5)\r\n",
    "\r\n",
    "linear_model.fit(X_train, y_train)\r\n",
    "rbf_model.fit(X_train, y_train)\r\n",
    "gamma_model.fit(X_train, y_train)\r\n",
    "\r\n",
    "print(\"accuracy of linear model : \", linear_model.score(X_test, y_test), \"\\naccuracy of rbf model : \", rbf_model.score(X_test, y_test),\r\n",
    " \"\\naccuracy of gamma model : \", gamma_model.score(X_test, y_test))"
   ],
   "outputs": [
    {
     "output_type": "stream",
     "name": "stdout",
     "text": [
      "accuracy of linear model :  0.9777777777777777 \n",
      "accuracy of rbf model :  0.9916666666666667 \n",
      "accuracy of gamma model :  0.9944444444444445\n"
     ]
    }
   ],
   "metadata": {}
  },
  {
   "cell_type": "code",
   "execution_count": null,
   "source": [],
   "outputs": [],
   "metadata": {}
  }
 ],
 "metadata": {
  "orig_nbformat": 4,
  "language_info": {
   "name": "python",
   "version": "3.9.5",
   "mimetype": "text/x-python",
   "codemirror_mode": {
    "name": "ipython",
    "version": 3
   },
   "pygments_lexer": "ipython3",
   "nbconvert_exporter": "python",
   "file_extension": ".py"
  },
  "kernelspec": {
   "name": "python3",
   "display_name": "Python 3.9.5 64-bit"
  },
  "interpreter": {
   "hash": "c569cd2e17f62341e0f08a54f9a867c3c0d3a6f67454072d7de41a8b5dff8343"
  }
 },
 "nbformat": 4,
 "nbformat_minor": 2
}